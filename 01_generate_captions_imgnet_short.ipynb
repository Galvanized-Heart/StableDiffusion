{
 "cells": [
  {
   "cell_type": "code",
   "execution_count": 1,
   "id": "ff34ba2e-329b-417e-a8e4-c32077a93aaf",
   "metadata": {},
   "outputs": [],
   "source": [
    "import torch\n",
    "from transformers import CLIPProcessor, CLIPModel"
   ]
  },
  {
   "cell_type": "code",
   "execution_count": 2,
   "id": "34d8eba6-0cb1-4b2b-a28c-e80424012298",
   "metadata": {},
   "outputs": [],
   "source": [
    "import torchvision.transforms.functional as TF,torch.nn.functional as F\n",
    "from miniai.datasets import *\n",
    "from datasets import load_dataset,load_dataset_builder"
   ]
  },
  {
   "cell_type": "code",
   "execution_count": null,
   "id": "e6b224b5-946e-4a51-91de-6ae5b786349e",
   "metadata": {},
   "outputs": [],
   "source": [
    "from huggingface_hub import hf_hub_download\n",
    "import json "
   ]
  },
  {
   "cell_type": "code",
   "execution_count": 3,
   "id": "a1c572fa-7e44-427a-a636-7275a85fe74e",
   "metadata": {},
   "outputs": [
    {
     "data": {
      "text/plain": [
       "'GPU is there'"
      ]
     },
     "execution_count": 3,
     "metadata": {},
     "output_type": "execute_result"
    }
   ],
   "source": [
    "\"GPU is there\" if torch.cuda.is_available() else Exception(\"GPU is missing\") "
   ]
  },
  {
   "cell_type": "markdown",
   "id": "b6aac711-e910-4392-9a10-a0163cc1190f",
   "metadata": {},
   "source": [
    "Optional: Check if Container is paging\n",
    "\n",
    "apt update && apt-get install sysstat && pidstat -r -d --human 3"
   ]
  },
  {
   "cell_type": "markdown",
   "id": "e0fdc6c4-776d-4259-ab47-5a7009bec5dc",
   "metadata": {},
   "source": [
    "# Loading Tiny-Imagenet"
   ]
  },
  {
   "cell_type": "code",
   "execution_count": 4,
   "id": "5a5021c4-9df1-4793-8e55-7151982ec4fa",
   "metadata": {},
   "outputs": [],
   "source": [
    "xl,yl = 'image','label'\n",
    "name = \"zh-plus/tiny-imagenet\"\n",
    "dsd = load_dataset(name)"
   ]
  },
  {
   "cell_type": "code",
   "execution_count": 5,
   "id": "49283a91-03fc-47a1-ad4d-156d6df8ddb5",
   "metadata": {},
   "outputs": [],
   "source": [
    "@inplace\n",
    "def transformi(b): b[xl] = [TF.to_tensor(o)-0.0 for o in b[xl]]\n",
    "\n",
    "bs = 32\n",
    "tds = dsd.with_transform(transformi)\n",
    "dls = DataLoaders.from_dd(tds, bs, num_workers=7)"
   ]
  },
  {
   "cell_type": "code",
   "execution_count": 6,
   "id": "13eeddce-48b5-491d-adc7-31da319fe9f5",
   "metadata": {},
   "outputs": [],
   "source": [
    "dt = dls.train\n",
    "xb,yb = next(iter(dt))"
   ]
  },
  {
   "cell_type": "code",
   "execution_count": 8,
   "id": "06f566bd-e6df-4e55-8c0f-e257c8b21e34",
   "metadata": {},
   "outputs": [],
   "source": [
    "# load the files\n",
    "fp_json_pos2idx = hf_hub_download(repo_id=name, filename=\"dataset_infos.json\", repo_type=\"dataset\")\n",
    "fp_idx2human = hf_hub_download(repo_id=name, filename=\"classes.py\", repo_type=\"dataset\")"
   ]
  },
  {
   "cell_type": "code",
   "execution_count": 9,
   "id": "4155fa3d-af77-445c-8c9e-5b27a3161a29",
   "metadata": {},
   "outputs": [],
   "source": [
    "f = open(fp_json_pos2idx,) \n",
    "data_pos2idx = json.load(f) \n",
    "f.close() "
   ]
  },
  {
   "cell_type": "code",
   "execution_count": 10,
   "id": "7bd41d7f-d5e8-4c8a-b60c-9a788ae539ca",
   "metadata": {},
   "outputs": [],
   "source": [
    "# Repo provided a variable called 'i2d'\n",
    "exec(open(fp_idx2human).read()) \n",
    "# Let's rename this variable to something suitable for this notebook\n",
    "idx2human = i2d"
   ]
  },
  {
   "cell_type": "code",
   "execution_count": 11,
   "id": "5bd24cee-ec67-4852-9444-cb8d1f70e04c",
   "metadata": {},
   "outputs": [],
   "source": [
    "pos2idx = data_pos2idx['Maysee--tiny-imagenet']['features']['label']['names']"
   ]
  },
  {
   "cell_type": "code",
   "execution_count": 12,
   "id": "6630b075-ee0d-4d9d-8ba2-ddf182970cb1",
   "metadata": {},
   "outputs": [],
   "source": [
    "pos2human = [idx2human[v] for k,v in enumerate(pos2idx)]"
   ]
  },
  {
   "cell_type": "code",
   "execution_count": 13,
   "id": "9d524b52-ce61-4d30-a35e-ebbc2f59a9d6",
   "metadata": {},
   "outputs": [
    {
     "data": {
      "text/plain": [
       "<Axes: >"
      ]
     },
     "execution_count": 13,
     "metadata": {},
     "output_type": "execute_result"
    },
    {
     "data": {
      "image/png": "[encoded data removed]",
      "text/plain": [
       "<Figure size 640x480 with 1 Axes>"
      ]
     },
     "metadata": {},
     "output_type": "display_data"
    }
   ],
   "source": [
    "show_image(xb[17])"
   ]
  },
  {
   "cell_type": "code",
   "execution_count": 14,
   "id": "e49ffef8-a073-47d9-a004-e7af323d3078",
   "metadata": {},
   "outputs": [
    {
     "data": {
      "text/plain": [
       "'golden retriever'"
      ]
     },
     "execution_count": 14,
     "metadata": {},
     "output_type": "execute_result"
    }
   ],
   "source": [
    "pos2human[yb[17]]"
   ]
  },
  {
   "cell_type": "code",
   "execution_count": 15,
   "id": "dc94efd5-841c-479b-8dae-bebbd7e8e15c",
   "metadata": {},
   "outputs": [],
   "source": [
    "captions = [\"A photo of \" + txt for txt in pos2human]"
   ]
  },
  {
   "cell_type": "code",
   "execution_count": 16,
   "id": "268a9e2e-4492-4455-98e0-d1ac3e971175",
   "metadata": {},
   "outputs": [
    {
     "data": {
      "text/plain": [
       "['A photo of goldfish, Carassius auratus',\n",
       " 'A photo of European fire salamander, Salamandra salamandra',\n",
       " 'A photo of bullfrog, Rana catesbeiana',\n",
       " 'A photo of tailed frog, bell toad, ribbed toad, tailed toad, Ascaphus trui',\n",
       " 'A photo of American alligator, Alligator mississipiensis',\n",
       " 'A photo of boa constrictor, Constrictor constrictor',\n",
       " 'A photo of trilobite',\n",
       " 'A photo of scorpion',\n",
       " 'A photo of black widow, Latrodectus mactans',\n",
       " 'A photo of tarantula']"
      ]
     },
     "execution_count": 16,
     "metadata": {},
     "output_type": "execute_result"
    }
   ],
   "source": [
    "captions[0:10]"
   ]
  },
  {
   "cell_type": "code",
   "execution_count": 17,
   "id": "2b30c808-c872-443e-a952-1ecc284d17b9",
   "metadata": {},
   "outputs": [
    {
     "data": {
      "text/plain": [
       "200"
      ]
     },
     "execution_count": 17,
     "metadata": {},
     "output_type": "execute_result"
    }
   ],
   "source": [
    "len(captions)"
   ]
  },
  {
   "cell_type": "code",
   "execution_count": null,
   "id": "aa4cf21d-46df-452b-9d35-a1c2d575d868",
   "metadata": {},
   "outputs": [],
   "source": []
  }
 ],
 "metadata": {
  "kernelspec": {
   "display_name": "fast.ai",
   "language": "python",
   "name": "fastai"
  },
  "language_info": {
   "codemirror_mode": {
    "name": "ipython",
    "version": 3
   },
   "file_extension": ".py",
   "mimetype": "text/x-python",
   "name": "python",
   "nbconvert_exporter": "python",
   "pygments_lexer": "ipython3",
   "version": "3.10.14"
  }
 },
 "nbformat": 4,
 "nbformat_minor": 5
}
